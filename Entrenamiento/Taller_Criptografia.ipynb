{
  "nbformat": 4,
  "nbformat_minor": 0,
  "metadata": {
    "colab": {
      "provenance": [],
      "authorship_tag": "ABX9TyMnf1XZkwzlvHFvzkLdlb+T",
      "include_colab_link": true
    },
    "kernelspec": {
      "name": "python3",
      "display_name": "Python 3"
    },
    "language_info": {
      "name": "python"
    }
  },
  "cells": [
    {
      "cell_type": "markdown",
      "metadata": {
        "id": "view-in-github",
        "colab_type": "text"
      },
      "source": [
        "<a href=\"https://colab.research.google.com/github/diegop2110/Talento_Tech_Ciberseguridad/blob/main/Entrenamiento/Taller_Criptografia.ipynb\" target=\"_parent\"><img src=\"https://colab.research.google.com/assets/colab-badge.svg\" alt=\"Open In Colab\"/></a>"
      ]
    },
    {
      "cell_type": "code",
      "execution_count": null,
      "metadata": {
        "colab": {
          "base_uri": "https://localhost:8080/"
        },
        "id": "nJWjCxYrmaWB",
        "outputId": "f67813a6-6ed3-4705-9dae-f1a2c915bab2"
      },
      "outputs": [
        {
          "output_type": "stream",
          "name": "stdout",
          "text": [
            "Frecuencia de caracteres en el mensaje:\n",
            "'2': 10\n",
            "'#': 7\n",
            "'1': 6\n",
            "'6': 6\n",
            "'_': 6\n",
            "'5': 6\n",
            "'!': 4\n",
            "'3': 3\n",
            "'>': 3\n",
            "'|': 3\n",
            "'%': 3\n",
            "'?': 2\n",
            "'4': 2\n",
            "'@': 1\n",
            "'=': 1\n",
            "'$': 1\n",
            "'7': 1\n",
            "'/': 1\n"
          ]
        }
      ],
      "source": [
        "from collections import Counter\n",
        "\n",
        "# Frase cifrada\n",
        "mensaje = \"3# 16_@!5?6#=_# 2> 23 #6!2 |2 2>16_$_6 15% 13#72 >2162!# 5 |2 /% 45|5 2%_?4#!_15\"\n",
        "\n",
        "# Filtramos y contamos solo los caracteres\n",
        "frecuencias = Counter(mensaje.replace(\" \", \"\"))\n",
        "\n",
        "# Ordenamos por frecuencia descendente\n",
        "frecuencias_ordenadas = frecuencias.most_common()\n",
        "\n",
        "# Imprimir el resultado\n",
        "print(\"Frecuencia de caracteres en el mensaje:\")\n",
        "for caracter, freq in frecuencias_ordenadas:\n",
        "    print(f\"'{caracter}': {freq}\")\n"
      ]
    },
    {
      "cell_type": "code",
      "source": [
        "from collections import Counter\n",
        "import requests\n",
        "\n",
        "\n",
        "# Mensaje cifrado\n",
        "mensaje = \"3# 16_@!5?6#=_# 2> 23 #6!2 |2 2>16_$_6 15% 13#72 >2162!# 5 |2 /% 45|5 2%_?4#!_15\"\n",
        "mensaje_sin_espacios = mensaje.replace(\" \", \"\")\n",
        "\n",
        "# Frecuencia de caracteres\n",
        "frecuencias = Counter(mensaje_sin_espacios)\n",
        "print(\"Frecuencia de caracteres:\")\n",
        "for c, f in frecuencias.most_common():\n",
        "    print(f\"'{c}': {f}\")\n",
        "\n",
        "# Diccionario en español\n",
        "url = 'https://raw.githubusercontent.com/javierarce/palabras/master/listado-general.txt'\n",
        "diccionario_spanish = set(requests.get(url).text.lower().splitlines())\n",
        "\n",
        "# Mapeo inicial de caracteres\n",
        "\n",
        "sustituciones = {\n",
        "    '#': 'a',\n",
        "    '2': 'e',\n",
        "    '>': 'l',\n",
        "    '6': 'r',\n",
        "    '1': 'c',\n",
        "    '!': 't',\n",
        "    '5': 'o',\n",
        "    '3': 'l',\n",
        "    '%': 'i',\n",
        "    '|': 'f',\n",
        "    '_': 'i',\n",
        "    '@': 'p',\n",
        "    '$': 'c',\n",
        "    '?': 'g',\n",
        "    '=': 'p',\n",
        "    '4': 'h',\n",
        "    '/': 'b',\n",
        "    '7': 'g'\n",
        "\n",
        "}\n",
        "\n",
        "# Aplicar sustitución\n",
        "\n",
        "def descifrar_mensaje(mensaje, mapa):\n",
        "    return ''.join(mapa.get(c, c) for c in mensaje)\n",
        "\n",
        "mensaje_descifrado = descifrar_mensaje(mensaje, sustituciones)\n",
        "\n",
        "print(\"\\n Mensaje descifrado (tentativo):\")\n",
        "print(mensaje_descifrado)\n",
        "\n",
        "# Analiza posibles resultados\n",
        "\n",
        "def extraer_palabras(texto):\n",
        "    import re\n",
        "    return re.findall(r'\\b[a-zñ]{2,}\\b', texto.lower())\n",
        "\n",
        "palabras_encontradas = extraer_palabras(mensaje_descifrado)\n",
        "palabras_validas = [p for p in palabras_encontradas if p in diccionario_spanish]\n",
        "\n",
        "print(\"\\n Palabras válidas encontradas:\")\n",
        "for palabra in palabras_validas:\n",
        "    print(\"-\", palabra)\n",
        "\n",
        "print(f\"\\n Total de palabras reconocidas: {len(palabras_validas)} / {len(palabras_encontradas)} posibles\")\n"
      ],
      "metadata": {
        "colab": {
          "base_uri": "https://localhost:8080/"
        },
        "id": "wT_Z8bD4ml8j",
        "outputId": "6de6157d-d316-4c02-8a9e-8910c422fba3"
      },
      "execution_count": null,
      "outputs": [
        {
          "output_type": "stream",
          "name": "stdout",
          "text": [
            "Frecuencia de caracteres:\n",
            "'2': 10\n",
            "'#': 7\n",
            "'1': 6\n",
            "'6': 6\n",
            "'_': 6\n",
            "'5': 6\n",
            "'!': 4\n",
            "'3': 3\n",
            "'>': 3\n",
            "'|': 3\n",
            "'%': 3\n",
            "'?': 2\n",
            "'4': 2\n",
            "'@': 1\n",
            "'=': 1\n",
            "'$': 1\n",
            "'7': 1\n",
            "'/': 1\n",
            "\n",
            " Mensaje descifrado (tentativo):\n",
            "la criptograpia el el arte fe elcricir coi clage lecreta o fe bi hofo eiighatico\n",
            "\n",
            " Palabras válidas encontradas:\n",
            "- la\n",
            "- el\n",
            "- el\n",
            "- arte\n",
            "- fe\n",
            "- fe\n",
            "- bi\n",
            "\n",
            " Total de palabras reconocidas: 7 / 14 posibles\n"
          ]
        }
      ]
    },
    {
      "source": [
        "from collections import defaultdict\n",
        "import re\n",
        "import os\n",
        "\n",
        "# Archivos subidos\n",
        "\n",
        "mensaje_path = \"/content/sample_data/mensaje.cif\"\n",
        "lemario_path = \"/content/sample_data/lemario-espanol-2002-10-25.txt\"\n",
        "\n",
        "if not os.path.exists(mensaje_path):\n",
        "    print(f\"Error: El archivo {mensaje_path} no se encontró.\")\n",
        "\n",
        "\n",
        "    raise FileNotFoundError(f\"No such file or directory: '{mensaje_path}'\")\n",
        "\n",
        "def cargar_mensaje(path):\n",
        "    with open(path, encoding=\"utf-8\") as f:\n",
        "        return ''.join(ch for ch in f.read() if not ch.isspace())\n",
        "\n",
        "def cargar_lemario(path):\n",
        "\n",
        "    if not os.path.exists(path):\n",
        "        print(f\"Error: El archivo {path} no se encontró.\")\n",
        "        raise FileNotFoundError(f\"No such file or directory: '{path}'\")\n",
        "\n",
        "    with open(path, encoding=\"latin-1\") as f:\n",
        "        palabras = [normalizar(p.strip()) for p in f if p.strip()]\n",
        "    return set(palabras)\n",
        "\n",
        "def normalizar(palabra):\n",
        "    return palabra.translate(str.maketrans(\"áéíóúñÁÉÍÓÚÑ\", \"aeiounAEIOUN\")).lower()\n",
        "\n",
        "def frecuencias_grupos(texto, max_grupo=3):\n",
        "    resultados = {}\n",
        "    for n in range(1, max_grupo + 1):\n",
        "        freq = defaultdict(int)\n",
        "        for i in range(len(texto) - n + 1):\n",
        "            grupo = texto[i:i + n]\n",
        "            freq[grupo] += 1\n",
        "        resultados[n] = {k: v for k, v in freq.items() if v > 1}\n",
        "    return resultados\n",
        "\n",
        "def sustituir(texto, sustituciones):\n",
        "    return ''.join(sustituciones.get(ch, ch) for ch in texto)\n",
        "\n",
        "def buscar_patron(patron, lemario):\n",
        "    patron_regex = '^' + patron.replace('_', '.').lower() + '$'\n",
        "    return sorted([p for p in lemario if re.match(patron_regex, p)])\n",
        "\n",
        "# Cargar archivos\n",
        "mensaje = cargar_mensaje(mensaje_path)\n",
        "lemario = cargar_lemario(lemario_path)\n",
        "\n",
        "# Análisis de frecuencias\n",
        "frecuencias = frecuencias_grupos(mensaje, max_grupo=3)\n",
        "\n",
        "# Hipótesis de sustitución\n",
        "sustituciones = {\n",
        "    '2': 'e', '#': 'a', '3': 'l', '>': 's', '|': 'd', '5': 'o',\n",
        "    '1': 'c', '6': 'r', '7': 'v', '@': 'p', '!': 't', '%': 'n',\n",
        "    '/': 'u', '_': 'i', '$': 'g', '?': 'f', '=': 'a'\n",
        "}\n",
        "\n",
        "descifrado = sustituir(mensaje, sustituciones)\n",
        "\n",
        "# Buscar coincidencias en patrones clave\n",
        "patron_1 = buscar_patron(\"c_la_e\", lemario)\n",
        "patron_2 = buscar_patron(\"se_r_ta\", lemario)\n",
        "\n",
        "frecuencias, descifrado, patron_1, patron_2"
      ],
      "cell_type": "code",
      "metadata": {
        "colab": {
          "base_uri": "https://localhost:8080/"
        },
        "id": "xqxz4EsRuYdm",
        "outputId": "3b4106ff-f290-4541-810f-c09ff60b0f13"
      },
      "execution_count": null,
      "outputs": [
        {
          "output_type": "execute_result",
          "data": {
            "text/plain": [
              "({1: {'3': 3,\n",
              "   '#': 7,\n",
              "   '1': 6,\n",
              "   '6': 6,\n",
              "   '_': 6,\n",
              "   '!': 4,\n",
              "   '5': 6,\n",
              "   '?': 2,\n",
              "   '2': 10,\n",
              "   '>': 3,\n",
              "   '|': 3,\n",
              "   '%': 3,\n",
              "   '4': 2},\n",
              "  2: {'3#': 3, '16': 3, '6_': 2, '2>': 3, '>2': 2, '|2': 2, '15': 2, '5|': 2},\n",
              "  3: {'16_': 2, '2>2': 2}},\n",
              " 'lacriptofraaiaeselartedeescrigirconclavesecretaodeun4odoenif4atico',\n",
              " ['calaje', 'calape', 'celaje'],\n",
              " ['secreta', 'serreta'])"
            ]
          },
          "metadata": {},
          "execution_count": 15
        }
      ]
    }
  ]
}